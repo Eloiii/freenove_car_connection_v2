{
 "cells": [
  {
   "cell_type": "markdown",
   "source": [],
   "metadata": {
    "collapsed": false
   },
   "id": "77caf66c03a79894"
  },
  {
   "cell_type": "code",
   "execution_count": null,
   "outputs": [],
   "source": [
    "from os import getcwd\n",
    "from owlready2 import default_world, onto_path\n",
    "from pandas import DataFrame, Series, to_datetime, read_csv, concat, Timestamp\n",
    "from matplotlib.pyplot import subplots, title, show\n",
    "from numpy import *"
   ],
   "metadata": {
    "collapsed": false
   },
   "id": "a630121b5b73e0d4"
  },
  {
   "cell_type": "markdown",
   "source": [
    "# Initialize onotlogy"
   ],
   "metadata": {
    "collapsed": false
   },
   "id": "4ff71dc576b8c603"
  },
  {
   "cell_type": "code",
   "execution_count": null,
   "outputs": [],
   "source": [
    "CURRENT_PATH = getcwd()\n",
    "DATABASE_PATH = CURRENT_PATH + \"/4WD_car_db.sqlite3\"\n",
    "ONTO_IRI_OLD = \"http://www.semanticweb.org/fenrir/ontologies/2023/5/4WD_car_specific_ontology#\"\n",
    "ONTO_IRI = \"http://www.semanticweb.org/fenrir/ontologies/2023/5/4WD_car_simplified_ontology#\"\n",
    "\n",
    "def get_onto():\n",
    "    default_world.set_backend(filename=DATABASE_PATH, exclusive=False)\n",
    "    onto_path.append(CURRENT_PATH)\n",
    "    return default_world.get_ontology(ONTO_IRI).load()\n",
    "\n",
    "def close():\n",
    "    default_world.close()\n",
    "\n",
    "onto = get_onto()"
   ],
   "metadata": {
    "collapsed": false
   },
   "id": "f8fae0905e04f62c"
  },
  {
   "cell_type": "markdown",
   "source": [
    "# Data extracting"
   ],
   "metadata": {
    "collapsed": false
   },
   "id": "3b30073e7cd82d74"
  },
  {
   "cell_type": "code",
   "execution_count": null,
   "outputs": [],
   "source": [
    "df = DataFrame(columns=['timestamp'])\n",
    "df.set_index('timestamp',inplace=True)\n",
    "\n",
    "for measure in onto.search(type = onto.measure):\n",
    "    res = Series(dtype=object)\n",
    "    for prop in measure.get_properties():\n",
    "        for value in prop[measure]:\n",
    "            if prop.python_name in ['charge','position','samplin_rate']: continue\n",
    "            res[prop.python_name] = value\n",
    "    timestamp = res.pop('timestamp')\n",
    "    df.loc[timestamp,res.keys().values] = res.values\n",
    "df.reset_index(inplace=True)\n",
    "df.rename(columns={'index': 'timestamp'}, inplace=True)\n",
    "df = df.replace({True: 1, False: 0})\n",
    "print(df.shape)\n",
    "df.head()"
   ],
   "metadata": {
    "collapsed": false
   },
   "id": "215be1f545a8428c"
  },
  {
   "cell_type": "markdown",
   "source": [
    "# Updating CSV"
   ],
   "metadata": {
    "collapsed": false
   },
   "id": "f615adb6846d08a8"
  },
  {
   "cell_type": "code",
   "execution_count": null,
   "outputs": [],
   "source": [
    "df2 = read_csv('car_data.csv')\n",
    "df = concat([df2,df], ignore_index=True)\n",
    "df.to_csv('car_data.csv', index=False)"
   ],
   "metadata": {
    "collapsed": false
   },
   "id": "3b54b87de513e925"
  },
  {
   "cell_type": "markdown",
   "source": [
    "## Visualization"
   ],
   "metadata": {
    "collapsed": false
   },
   "id": "802bb9475f42110f"
  },
  {
   "cell_type": "code",
   "execution_count": null,
   "outputs": [],
   "source": [
    "THRESHOLD = 1000\n",
    "df['diff_time'] = df['timestamp'].diff()\n",
    "df['diff_time'] = df['diff_time'].abs()\n",
    "df['cycle'] = (df['diff_time'] > THRESHOLD).cumsum()\n",
    "df['timestamp'] = df['timestamp'] - df.groupby('cycle')['timestamp'].transform('min')\n",
    "discharge_cycles = df.groupby('cycle')\n",
    "\n",
    "fig, ax = subplots()\n",
    "\n",
    "for n, cycle in discharge_cycles:\n",
    "    ax.plot(cycle.timestamp, cycle.voltage)\n",
    "    pass\n",
    "\n",
    "ax.set_xlabel('Timestamp')\n",
    "ax.set_ylabel('Voltage')\n",
    "title('Discharge patterns')\n",
    "\n",
    "show()\n",
    "discharge_cycles.describe()"
   ],
   "metadata": {
    "collapsed": false
   },
   "id": "c10ef546ab727e2c"
  },
  {
   "cell_type": "code",
   "execution_count": null,
   "outputs": [],
   "source": [
    "    df['voltage_smoothed'] = df['voltage'].ewm(alpha=0.1, adjust=False).mean()\n",
    "    df['voltage_smoothed'] = df['voltage_smoothed'].fillna(df['voltage'])\n",
    "    df.drop(['voltage'], axis=1, inplace=True)\n",
    "\n",
    "    df_voltage = df['voltage_smoothed']\n",
    "    df_timestamp = df['timestamp']\n",
    "    df.drop(['voltage_smoothed','timestamp'], axis=1, inplace=True)\n",
    "    columns = df.columns\n",
    "\n",
    "    df = pd.DataFrame(scaler_features.fit_transform(df), columns=columns)\n",
    "    df_voltage = pd.DataFrame(scaler_voltage.fit_transform(df_voltage.values.reshape(-1,1)), columns=['voltage'])\n",
    "    df = pd.concat([df_timestamp, df_voltage, df], axis=1)\n",
    "\n",
    "    THRESHOLD = 1000\n",
    "    df['diff_time'] = df['timestamp'].diff()\n",
    "    df['diff_time'] = df['diff_time'].abs()\n",
    "    df['cycle'] = (df['diff_time'] > THRESHOLD).cumsum()\n",
    "    df['timestamp'] = df['timestamp'] - df.groupby('cycle')['timestamp'].transform('min')\n",
    "    discharge_cycles = df.groupby('cycle')"
   ],
   "metadata": {
    "collapsed": false
   },
   "id": "74b41e4b21cc0f2a"
  },
  {
   "cell_type": "code",
   "execution_count": null,
   "outputs": [],
   "source": [
    "df['voltage_smoothed'] = df['voltage'].ewm(alpha=0.05, adjust=False).mean()\n",
    "discharge_cycles = df.groupby('cycle')\n",
    "\n",
    "fig, ax = subplots()\n",
    "\n",
    "for n, cycle in discharge_cycles:\n",
    "    ax.plot(cycle.timestamp, cycle.voltage_smoothed)\n",
    "    pass\n",
    "\n",
    "ax.set_xlabel('Timestamp')\n",
    "ax.set_ylabel('Voltage')\n",
    "title('Discharge patterns smoothed')\n",
    "show()"
   ],
   "metadata": {
    "collapsed": false
   },
   "id": "1419a39cd1ce883a"
  },
  {
   "cell_type": "code",
   "execution_count": null,
   "outputs": [],
   "source": [
    "close()"
   ],
   "metadata": {
    "collapsed": false
   },
   "id": "ce4df96a5cc80c8d"
  },
  {
   "cell_type": "code",
   "execution_count": null,
   "outputs": [],
   "source": [],
   "metadata": {
    "collapsed": false
   },
   "id": "f1f89e009ca2be49"
  }
 ],
 "metadata": {
  "kernelspec": {
   "display_name": "Python 3 (ipykernel)",
   "language": "python",
   "name": "python3"
  },
  "language_info": {
   "codemirror_mode": {
    "name": "ipython",
    "version": 3
   },
   "file_extension": ".py",
   "mimetype": "text/x-python",
   "name": "python",
   "nbconvert_exporter": "python",
   "pygments_lexer": "ipython3",
   "version": "3.10.7"
  }
 },
 "nbformat": 4,
 "nbformat_minor": 5
}
