{
 "cells": [
  {
   "cell_type": "markdown",
   "source": [],
   "metadata": {
    "collapsed": false
   }
  },
  {
   "cell_type": "code",
   "execution_count": null,
   "outputs": [],
   "source": [
    "from os import getcwd\n",
    "from owlready2 import default_world, onto_path\n",
    "from pandas import DataFrame, Series, to_datetime, read_csv, concat\n",
    "from matplotlib.pyplot import subplots, title, show\n",
    "from numpy import *"
   ],
   "metadata": {
    "collapsed": false
   }
  },
  {
   "cell_type": "markdown",
   "source": [
    "# Initialize onotlogy"
   ],
   "metadata": {
    "collapsed": false
   }
  },
  {
   "cell_type": "code",
   "execution_count": null,
   "outputs": [],
   "source": [
    "CURRENT_PATH = getcwd()\n",
    "DATABASE_PATH = CURRENT_PATH + \"/4WD_car_db.sqlite3\"\n",
    "ONTO_IRI_OLD = \"http://www.semanticweb.org/fenrir/ontologies/2023/5/4WD_car_specific_ontology#\"\n",
    "ONTO_IRI = \"http://www.semanticweb.org/fenrir/ontologies/2023/5/4WD_car_simplified_ontology#\"\n",
    "\n",
    "def get_onto():\n",
    "    default_world.set_backend(filename=DATABASE_PATH, exclusive=False)\n",
    "    onto_path.append(CURRENT_PATH)\n",
    "    return default_world.get_ontology(ONTO_IRI).load()\n",
    "\n",
    "def close():\n",
    "    default_world.close()\n",
    "\n",
    "onto = get_onto()"
   ],
   "metadata": {
    "collapsed": false
   }
  },
  {
   "cell_type": "markdown",
   "source": [
    "# Data extracting"
   ],
   "metadata": {
    "collapsed": false
   }
  },
  {
   "cell_type": "code",
   "execution_count": null,
   "outputs": [],
   "source": [
    "df = DataFrame(columns=['timestamp'])\n",
    "df.set_index('timestamp',inplace=True)\n",
    "\n",
    "for measure in onto.search(type = onto.measure):\n",
    "    res = Series(dtype=object)\n",
    "    for prop in measure.get_properties():\n",
    "        for value in prop[measure]:\n",
    "            if prop.python_name in ['charge','position','samplin_rate']: continue\n",
    "            res[prop.python_name] = value\n",
    "    timestamp = res.pop('timestamp')\n",
    "    df.loc[timestamp,res.keys().values] = res.values\n",
    "df.reset_index(inplace=True)\n",
    "df.rename(columns={'index': 'timestamp'}, inplace=True)\n",
    "df['timestamp'] = to_datetime(df['timestamp'], unit='s')\n",
    "df = df.replace({True: 1, False: 0})\n",
    "print(df.shape)\n",
    "df.head()"
   ],
   "metadata": {
    "collapsed": false
   }
  },
  {
   "cell_type": "markdown",
   "source": [
    "# Updating CSV"
   ],
   "metadata": {
    "collapsed": false
   }
  },
  {
   "cell_type": "code",
   "execution_count": null,
   "outputs": [],
   "source": [
    "df2 = read_csv('car_data_from.csv')\n",
    "df = concat([df2,df], ignore_index=True)\n",
    "df.to_csv('car_data.csv', index=False)"
   ],
   "metadata": {
    "collapsed": false
   }
  },
  {
   "cell_type": "markdown",
   "source": [
    "## Visualization"
   ],
   "metadata": {
    "collapsed": false
   }
  },
  {
   "cell_type": "code",
   "execution_count": null,
   "outputs": [],
   "source": [
    "THRESHOLD = 600\n",
    "\n",
    "df['diff_time'] = df['timestamp'].diff()\n",
    "df['cycle'] = (df['diff_time'] > THRESHOLD).cumsum()\n",
    "df['timestamp'] = df['timestamp'] - df.groupby('cycle')['timestamp'].transform('min')\n",
    "discharge_cycles = df.groupby('cycle')\n",
    "\n",
    "fig, ax = subplots()\n",
    "\n",
    "for n, cycle in discharge_cycles:\n",
    "    ax.plot(cycle.timestamp, cycle.voltage)\n",
    "    pass\n",
    "\n",
    "ax.set_xlabel('Timestamp')\n",
    "ax.set_ylabel('Voltage')\n",
    "title('Discharge patterns')\n",
    "\n",
    "show()\n",
    "discharge_cycles.describe()"
   ],
   "metadata": {
    "collapsed": false
   }
  },
  {
   "cell_type": "code",
   "execution_count": null,
   "outputs": [],
   "source": [
    "close()"
   ],
   "metadata": {
    "collapsed": false
   }
  },
  {
   "cell_type": "markdown",
   "source": [
    "# TODO\n",
    "\n",
    "Fichier qui permette de :\n",
    "1 - update le .csv en extrayant les données de la DB et supprimer les doublons\n",
    "2 - Construise le model\n",
    "3 - L'entraine\n",
    "4 - Mesure sa MSE par rapport a l'ancien et le sauvegarde si il est meilleur\n",
    "5 - Charge dans l'appli le nouveau model (en tuant un thread et le relançant ??)\n"
   ],
   "metadata": {
    "collapsed": false
   }
  }
 ],
 "metadata": {
  "kernelspec": {
   "display_name": "Python 3 (ipykernel)",
   "language": "python",
   "name": "python3"
  },
  "language_info": {
   "codemirror_mode": {
    "name": "ipython",
    "version": 3
   },
   "file_extension": ".py",
   "mimetype": "text/x-python",
   "name": "python",
   "nbconvert_exporter": "python",
   "pygments_lexer": "ipython3",
   "version": "3.10.7"
  }
 },
 "nbformat": 4,
 "nbformat_minor": 5
}
