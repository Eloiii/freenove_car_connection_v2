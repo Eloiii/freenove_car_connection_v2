{
 "cells": [
  {
   "cell_type": "markdown",
   "source": [],
   "metadata": {
    "collapsed": false
   }
  },
  {
   "cell_type": "code",
   "execution_count": null,
   "outputs": [],
   "source": [
    "from os.path import dirname, abspath\n",
    "from owlready2 import default_world, onto_path\n",
    "from pandas import DataFrame, Series, to_datetime\n",
    "from matplotlib.pyplot import subplots, title, show\n",
    "from numpy import *\n",
    "from sklearn.preprocessing import MinMaxScaler, LabelEncoder\n",
    "from sklearn.metrics import mean_squared_error\n",
    "from keras.models import Sequential\n",
    "from keras.layers import Dense, LSTM"
   ],
   "metadata": {
    "collapsed": false
   }
  },
  {
   "cell_type": "code",
   "execution_count": null,
   "outputs": [],
   "source": [
    "CURRENT_PATH = os.path.dirname(os.path.abspath(__file__))\n",
    "DATABASE_PATH = CURRENT_PATH + \"/4WD_car_db.sqlite3\"\n",
    "ONTO_IRI = \"http://www.semanticweb.org/fenrir/ontologies/2023/5/4WD_car_specific_ontology#\"\n",
    "\n",
    "def get_onto():\n",
    "    default_world.set_backend(filename=DATABASE_PATH, exclusive=False)\n",
    "    onto_path.append(CURRENT_PATH)\n",
    "    return default_world.get_ontology(CURRENT_PATH+ONTO_IRI).load()\n",
    "\n",
    "def close():\n",
    "    default_world.close()\n",
    "\n",
    "onto = get_onto()"
   ],
   "metadata": {
    "collapsed": false
   }
  },
  {
   "cell_type": "code",
   "execution_count": null,
   "id": "5ce2c26f-c3a6-4a2f-abba-e49b3542fcf8",
   "metadata": {},
   "outputs": [],
   "source": [
    "battery_df = DataFrame(columns=[\"timestamp\",\"voltage\"])\n",
    "\n",
    "for car in onto.search(is_a = onto.car):\n",
    "    for battery in car.hasPart:\n",
    "        if not isinstance(battery, onto.battery): continue\n",
    "        for measure in battery.hasMeasure:\n",
    "            battery_df.loc[len(battery_df)] = Series(dtype=object)\n",
    "            for prop in measure.get_properties():\n",
    "                for value in prop[measure]:\n",
    "                    if prop.python_name == 'charge' : continue\n",
    "                    battery_df.loc[len(battery_df)-1, prop.python_name] = value\n",
    "print(battery_df.shape)"
   ]
  },
  {
   "cell_type": "code",
   "execution_count": null,
   "outputs": [],
   "source": [
    "battery_df.head()"
   ],
   "metadata": {
    "collapsed": false
   }
  },
  {
   "cell_type": "code",
   "execution_count": null,
   "outputs": [],
   "source": [
    "THRESHOLD = 600\n",
    "\n",
    "battery_df['diff_time'] = battery_df['timestamp'].diff()\n",
    "battery_df['cycle'] = (battery_df['diff_time'] > THRESHOLD).cumsum()\n",
    "battery_df['timestamp'] = battery_df['timestamp'] - battery_df.groupby('cycle')['timestamp'].transform('min')\n",
    "discharge_cycles = battery_df.groupby('cycle')\n",
    "\n",
    "fig, ax = subplots()\n",
    "\n",
    "for n, cycle in discharge_cycles:\n",
    "    ax.plot(cycle.timestamp, cycle.voltage)\n",
    "    pass\n",
    "\n",
    "ax.set_xlabel('Timestamp')\n",
    "ax.set_ylabel('Voltage')\n",
    "title('Discharge patterns')\n",
    "\n",
    "show()\n",
    "discharge_cycles.describe()"
   ],
   "metadata": {
    "collapsed": false
   }
  },
  {
   "cell_type": "code",
   "execution_count": null,
   "outputs": [],
   "source": [
    "raw_df = DataFrame(columns=[\"timestamp\"])\n",
    "\n",
    "for assembly in onto.search(is_a = onto.Assembly):\n",
    "    for part in assembly.hasPart:\n",
    "        for measure in part.hasMeasure:\n",
    "            raw_df.loc[len(raw_df)] = Series(dtype=object)\n",
    "            for prop in measure.get_properties():\n",
    "                for value in prop[measure]:\n",
    "                    if prop.python_name == 'charge' : continue\n",
    "                    raw_df.loc[len(raw_df)-1, prop.python_name] = value\n",
    "raw_df = raw_df.drop('position', axis=1)\n",
    "df = raw_df.copy()\n",
    "df['timestamp'] = to_datetime(df['timestamp'], unit='s')\n",
    "df['speed'] = df['speed'].apply(abs)\n",
    "df = df.groupby('timestamp').sum()\n",
    "df.head()"
   ],
   "metadata": {
    "collapsed": false
   }
  },
  {
   "cell_type": "code",
   "execution_count": null,
   "outputs": [],
   "source": [],
   "metadata": {
    "collapsed": false
   }
  },
  {
   "cell_type": "code",
   "execution_count": null,
   "outputs": [],
   "source": [],
   "metadata": {
    "collapsed": false
   }
  },
  {
   "cell_type": "code",
   "execution_count": null,
   "outputs": [],
   "source": [
    "close()"
   ],
   "metadata": {
    "collapsed": false
   }
  },
  {
   "cell_type": "code",
   "execution_count": null,
   "outputs": [],
   "source": [],
   "metadata": {
    "collapsed": false
   }
  }
 ],
 "metadata": {
  "kernelspec": {
   "display_name": "Python 3 (ipykernel)",
   "language": "python",
   "name": "python3"
  },
  "language_info": {
   "codemirror_mode": {
    "name": "ipython",
    "version": 3
   },
   "file_extension": ".py",
   "mimetype": "text/x-python",
   "name": "python",
   "nbconvert_exporter": "python",
   "pygments_lexer": "ipython3",
   "version": "3.10.7"
  }
 },
 "nbformat": 4,
 "nbformat_minor": 5
}
