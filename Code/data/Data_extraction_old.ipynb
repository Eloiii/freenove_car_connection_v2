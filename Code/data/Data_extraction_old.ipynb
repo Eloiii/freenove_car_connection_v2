{
 "cells": [
  {
   "cell_type": "markdown",
   "source": [],
   "metadata": {
    "collapsed": false
   }
  },
  {
   "cell_type": "code",
   "execution_count": null,
   "outputs": [],
   "source": [
    "from os import getcwd\n",
    "from owlready2 import default_world, onto_path\n",
    "from pandas import DataFrame, Series, to_datetime, notnull, read_csv\n",
    "from matplotlib.pyplot import subplots, title, show\n",
    "from numpy import *"
   ],
   "metadata": {
    "collapsed": false
   }
  },
  {
   "cell_type": "markdown",
   "source": [
    "# Initialize onotlogy"
   ],
   "metadata": {
    "collapsed": false
   }
  },
  {
   "cell_type": "code",
   "execution_count": null,
   "outputs": [],
   "source": [
    "CURRENT_PATH = getcwd()\n",
    "DATABASE_PATH = CURRENT_PATH + \"/4WD_car_db_old.sqlite3\"\n",
    "ONTO_IRI = \"http://www.semanticweb.org/fenrir/ontologies/2023/5/4WD_car_specific_ontology#\"\n",
    "\n",
    "def get_onto():\n",
    "    default_world.set_backend(filename=DATABASE_PATH, exclusive=False)\n",
    "    onto_path.append(CURRENT_PATH)\n",
    "    return default_world.get_ontology(ONTO_IRI).load()\n",
    "\n",
    "def close():\n",
    "    default_world.close()\n",
    "\n",
    "onto = get_onto()"
   ],
   "metadata": {
    "collapsed": false
   }
  },
  {
   "cell_type": "markdown",
   "source": [
    "# Battery discharge (OLD)\n",
    "\n",
    "Recover all battery measures in battery_df"
   ],
   "metadata": {
    "collapsed": false
   }
  },
  {
   "cell_type": "code",
   "execution_count": null,
   "id": "5ce2c26f-c3a6-4a2f-abba-e49b3542fcf8",
   "metadata": {},
   "outputs": [],
   "source": [
    "battery_df = DataFrame(columns=['timestamp'])\n",
    "battery_df.set_index('timestamp', inplace=True)\n",
    "\n",
    "for battery in onto.search(type = onto.battery):\n",
    "    for measure in battery.hasMeasure:\n",
    "        res = Series(dtype=object)\n",
    "        for prop in measure.get_properties():\n",
    "            for value in prop[measure]:\n",
    "                if prop.python_name == 'charge' : continue\n",
    "                res[prop.python_name] = value\n",
    "        timestamp = res.pop('timestamp')\n",
    "        battery_df.loc[timestamp,res.keys().values] = res.values"
   ]
  },
  {
   "cell_type": "code",
   "execution_count": null,
   "outputs": [],
   "source": [
    "print(battery_df.shape)\n",
    "battery_df.reset_index(inplace=True)\n",
    "battery_df.rename(columns={'index': 'timestamp'}, inplace=True)\n",
    "battery_df.head()"
   ],
   "metadata": {
    "collapsed": false
   }
  },
  {
   "cell_type": "markdown",
   "source": [
    "## Visualization\n",
    "\n",
    "Here we want to visualize all the discharges patterns in one graph.\n",
    "So we use a Threshold value that will separate each cycle of discharge such as if two consecutive values are more than 10 minutes separated\n",
    "they are part of two different cycles."
   ],
   "metadata": {
    "collapsed": false
   }
  },
  {
   "cell_type": "code",
   "execution_count": null,
   "outputs": [],
   "source": [
    "THRESHOLD = 600\n",
    "\n",
    "battery_df['diff_time'] = battery_df['timestamp'].diff()\n",
    "battery_df['cycle'] = (battery_df['diff_time'] > THRESHOLD).cumsum()\n",
    "battery_df['timestamp'] = battery_df['timestamp'] - battery_df.groupby('cycle')['timestamp'].transform('min')\n",
    "discharge_cycles = battery_df.groupby('cycle')\n",
    "\n",
    "fig, ax = subplots()\n",
    "\n",
    "for n, cycle in discharge_cycles:\n",
    "    ax.plot(cycle.timestamp, cycle.voltage)\n",
    "    pass\n",
    "\n",
    "ax.set_xlabel('Timestamp')\n",
    "ax.set_ylabel('Voltage')\n",
    "title('Discharge patterns')\n",
    "\n",
    "show()\n",
    "discharge_cycles.describe()"
   ],
   "metadata": {
    "collapsed": false
   }
  },
  {
   "cell_type": "markdown",
   "source": [
    "# All data extracting (OLD)\n",
    "\n",
    "Now we want to extract every measure.\n",
    "With this version we ignore charge because it is only a bad calculation with the voltage value\n",
    "We ignore position because we will not use it finally we ignore samplin_rate for the same reason and also we can find it with timestamps."
   ],
   "metadata": {
    "collapsed": false
   }
  },
  {
   "cell_type": "code",
   "execution_count": null,
   "outputs": [],
   "source": [
    "values_to_sum = ['speed','red_intensity','green_intensity','blue_intensity']\n",
    "columns = values_to_sum.copy()\n",
    "columns.insert(0,'timestamp')\n",
    "df = DataFrame(columns=columns)\n",
    "df.set_index('timestamp',inplace=True)\n",
    "\n",
    "for measure in onto.search(type = onto.measure):\n",
    "    res = Series(dtype=object)\n",
    "    for prop in measure.get_properties():\n",
    "        for value in prop[measure]:\n",
    "            if prop.python_name in ['charge','position','samplin_rate']: continue\n",
    "            res[prop.python_name] = value\n",
    "    timestamp = res.pop('timestamp')\n",
    "\n",
    "    for value_to_sum in values_to_sum:\n",
    "        if value_to_sum in res:\n",
    "            if notnull(df.at[timestamp, value_to_sum]):\n",
    "                value = abs(res.pop(value_to_sum))\n",
    "                df.loc[timestamp,value_to_sum] += value\n",
    "\n",
    "    df.loc[timestamp,res.keys().values] = res.values"
   ],
   "metadata": {
    "collapsed": false
   }
  },
  {
   "cell_type": "code",
   "execution_count": null,
   "outputs": [],
   "source": [
    "df.reset_index(inplace=True)\n",
    "df.rename(columns={'index': 'timestamp'}, inplace=True)\n",
    "df['timestamp'] = to_datetime(df['timestamp'], unit='s')\n",
    "df = df.replace({True: 1, False: 0})"
   ],
   "metadata": {
    "collapsed": false
   }
  },
  {
   "cell_type": "code",
   "execution_count": null,
   "outputs": [],
   "source": [
    "print(df.shape)\n",
    "df.head()"
   ],
   "metadata": {
    "collapsed": false
   }
  },
  {
   "cell_type": "code",
   "execution_count": null,
   "outputs": [],
   "source": [
    "df.to_csv(CURRENT_PATH+'/car_data_from_old_version.csv', index=False)"
   ],
   "metadata": {
    "collapsed": false
   }
  },
  {
   "cell_type": "code",
   "execution_count": null,
   "outputs": [],
   "source": [
    "close()"
   ],
   "metadata": {
    "collapsed": false
   }
  },
  {
   "cell_type": "code",
   "execution_count": null,
   "outputs": [],
   "source": [],
   "metadata": {
    "collapsed": false
   }
  }
 ],
 "metadata": {
  "kernelspec": {
   "display_name": "Python 3 (ipykernel)",
   "language": "python",
   "name": "python3"
  },
  "language_info": {
   "codemirror_mode": {
    "name": "ipython",
    "version": 3
   },
   "file_extension": ".py",
   "mimetype": "text/x-python",
   "name": "python",
   "nbconvert_exporter": "python",
   "pygments_lexer": "ipython3",
   "version": "3.10.7"
  }
 },
 "nbformat": 4,
 "nbformat_minor": 5
}
