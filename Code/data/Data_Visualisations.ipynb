{
 "cells": [
  {
   "cell_type": "code",
   "execution_count": null,
   "id": "ccafa529-c423-4288-bc91-df8be47a9edc",
   "metadata": {},
   "outputs": [],
   "source": [
    "import pandas as pd\n",
    "import matplotlib.pyplot as plt\n",
    "import numpy as np\n",
    "from owlready2 import *\n",
    "\n",
    "SQLITE3FILE = os.getcwd() + \"/4WD_car_db.sqlite3\"\n",
    "IRI = \"http://www.semanticweb.org/fenrir/ontologies/2023/5/4WD_car_specific_ontology\"\n",
    "\n",
    "def get_onto():\n",
    "    default_world.set_backend(filename=SQLITE3FILE, exclusive=False)\n",
    "    return default_world.get_ontology(IRI).load()\n",
    "\n",
    "def close():\n",
    "    default_world.close()\n",
    "\n",
    "onto = get_onto()"
   ]
  },
  {
   "cell_type": "code",
   "execution_count": null,
   "id": "5ce2c26f-c3a6-4a2f-abba-e49b3542fcf8",
   "metadata": {},
   "outputs": [],
   "source": [
    "df = pd.DataFrame(columns=[\"timestamp\",\"voltage\",\"charge\"])\n",
    "\n",
    "for car in onto.search(is_a = onto.car):\n",
    "    for battery in car.hasPart:\n",
    "        if not isinstance(battery, onto.battery): continue\n",
    "        for measure in battery.hasMeasure:\n",
    "            df.loc[len(df)] = pd.Series(dtype=object)\n",
    "            for prop in measure.get_properties():\n",
    "                for value in prop[measure]:\n",
    "                    df.loc[len(df)-1, prop.python_name] = value"
   ]
  },
  {
   "cell_type": "code",
   "execution_count": null,
   "outputs": [],
   "source": [
    "df.head()"
   ],
   "metadata": {
    "collapsed": false
   }
  },
  {
   "cell_type": "code",
   "execution_count": null,
   "outputs": [],
   "source": [
    "voltage_values = df['voltage'].astype('float64')\n",
    "timestamps = df['timestamp']\n",
    "\n",
    "coefficients = np.polyfit(range(len(voltage_values)), voltage_values, 2)\n",
    "polynomial = np.poly1d(coefficients)\n",
    "\n",
    "trend_values = polynomial(range(len(timestamps)))\n",
    "\n",
    "fig, ax = plt.subplots()\n",
    "\n",
    "ax.plot(df['timestamp'], df['voltage'], label='Voltage')\n",
    "ax.plot(timestamps, trend_values, label='Trend')\n",
    "\n",
    "\n",
    "ax.legend()\n",
    "ax.set_xlabel('Timestamp')\n",
    "ax.set_ylabel('Voltage')\n",
    "plt.title('Voltage over Time')\n",
    "\n",
    "plt.show()"
   ],
   "metadata": {
    "collapsed": false
   }
  },
  {
   "cell_type": "code",
   "execution_count": null,
   "outputs": [],
   "source": [],
   "metadata": {
    "collapsed": false
   }
  },
  {
   "cell_type": "code",
   "execution_count": null,
   "outputs": [],
   "source": [
    "close()"
   ],
   "metadata": {
    "collapsed": false
   }
  },
  {
   "cell_type": "code",
   "execution_count": null,
   "outputs": [],
   "source": [],
   "metadata": {
    "collapsed": false
   }
  }
 ],
 "metadata": {
  "kernelspec": {
   "display_name": "Python 3 (ipykernel)",
   "language": "python",
   "name": "python3"
  },
  "language_info": {
   "codemirror_mode": {
    "name": "ipython",
    "version": 3
   },
   "file_extension": ".py",
   "mimetype": "text/x-python",
   "name": "python",
   "nbconvert_exporter": "python",
   "pygments_lexer": "ipython3",
   "version": "3.10.7"
  }
 },
 "nbformat": 4,
 "nbformat_minor": 5
}
