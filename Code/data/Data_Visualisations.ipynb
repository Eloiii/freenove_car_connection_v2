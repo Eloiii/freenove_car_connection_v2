{
 "cells": [
  {
   "cell_type": "code",
   "execution_count": null,
   "id": "ccafa529-c423-4288-bc91-df8be47a9edc",
   "metadata": {},
   "outputs": [],
   "source": [
    "import pandas as pd\n",
    "from owlready2 import *\n",
    "\n",
    "\n",
    "def start_database():\n",
    "    \"\"\"\n",
    "    Set the backend of the current default_world to the .sqlite3 file, if this file doesn't exist create it\n",
    "    \"\"\"\n",
    "    default_world.set_backend(filename=\"database/4WD_car_db.sqlite3\", exclusive=False)\n",
    "    onto = default_world.get_ontology(\"http://www.semanticweb.org/fenrir/ontologies/2023/5/4WD_car_specific_ontology\").load()\n",
    "    return onto\n",
    "\n",
    "\n",
    "def stop_database():\n",
    "    \"\"\"\n",
    "    Save the current state of the ontology in the database and close it, must be called before shutdown\n",
    "    \"\"\"\n",
    "    default_world.close()\n",
    "    \n",
    "def "
   ]
  },
  {
   "cell_type": "code",
   "execution_count": null,
   "id": "5ce2c26f-c3a6-4a2f-abba-e49b3542fcf8",
   "metadata": {},
   "outputs": [],
   "source": [
    "battery_df = pd.DataFrame()\n",
    "onto = start_database()\n"
   ]
  }
 ],
 "metadata": {
  "kernelspec": {
   "display_name": "Python 3 (ipykernel)",
   "language": "python",
   "name": "python3"
  },
  "language_info": {
   "codemirror_mode": {
    "name": "ipython",
    "version": 3
   },
   "file_extension": ".py",
   "mimetype": "text/x-python",
   "name": "python",
   "nbconvert_exporter": "python",
   "pygments_lexer": "ipython3",
   "version": "3.10.7"
  }
 },
 "nbformat": 4,
 "nbformat_minor": 5
}
