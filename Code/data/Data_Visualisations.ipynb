{
 "cells": [
  {
   "cell_type": "code",
   "execution_count": null,
   "id": "ccafa529-c423-4288-bc91-df8be47a9edc",
   "metadata": {},
   "outputs": [],
   "source": [
    "import pandas as pd\n",
    "import matplotlib.pyplot as plt\n",
    "import numpy as np\n",
    "from owlready2 import *\n",
    "\n",
    "SQLITE3FILE = os.getcwd() + \"/4WD_car_db.sqlite3\"\n",
    "IRI = \"http://www.semanticweb.org/fenrir/ontologies/2023/5/4WD_car_specific_ontology\"\n",
    "\n",
    "def get_onto():\n",
    "    default_world.set_backend(filename=SQLITE3FILE, exclusive=False)\n",
    "    return default_world.get_ontology(IRI).load()\n",
    "\n",
    "def close():\n",
    "    default_world.close()\n",
    "\n",
    "onto = get_onto()"
   ]
  },
  {
   "cell_type": "code",
   "execution_count": null,
   "id": "5ce2c26f-c3a6-4a2f-abba-e49b3542fcf8",
   "metadata": {},
   "outputs": [],
   "source": [
    "battery_df = pd.DataFrame(columns=[\"timestamp\",\"voltage\"])\n",
    "\n",
    "for car in onto.search(is_a = onto.car):\n",
    "    for battery in car.hasPart:\n",
    "        if not isinstance(battery, onto.battery): continue\n",
    "        for measure in battery.hasMeasure:\n",
    "            battery_df.loc[len(battery_df)] = pd.Series(dtype=object)\n",
    "            for prop in measure.get_properties():\n",
    "                for value in prop[measure]:\n",
    "                    battery_df.loc[len(battery_df)-1, prop.python_name] = value\n",
    "\n",
    "battery_df = battery_df.drop('charge', axis = 1)\n",
    "battery_df['diff_voltage'] = battery_df['voltage'].diff()\n",
    "threshold = 2\n",
    "battery_df['cycle'] = (battery_df['diff_voltage'] > threshold).cumsum()\n",
    "battery_df['timestamp'] = battery_df['timestamp'] - battery_df.groupby('cycle')['timestamp'].transform('min')\n",
    "discharge_cycles = battery_df.groupby('cycle')"
   ]
  },
  {
   "cell_type": "code",
   "execution_count": null,
   "outputs": [],
   "source": [
    "discharge_cycles.head(10)"
   ],
   "metadata": {
    "collapsed": false
   }
  },
  {
   "cell_type": "code",
   "execution_count": null,
   "outputs": [],
   "source": [
    "fig, ax = plt.subplots()\n",
    "\n",
    "for n, cycle in discharge_cycles:\n",
    "    ax.plot(cycle.timestamp, cycle.voltage)\n",
    "\n",
    "ax.legend()\n",
    "ax.set_xlabel('Timestamp')\n",
    "ax.set_ylabel('Voltage')\n",
    "plt.title('Voltage over Time')\n",
    "\n",
    "plt.show()"
   ],
   "metadata": {
    "collapsed": false
   }
  },
  {
   "cell_type": "code",
   "execution_count": null,
   "outputs": [],
   "source": [
    "df = pd.DataFrame(columns=[\"timestamp\"])\n",
    "\n",
    "for assembly in onto.search(is_a = onto.Assembly):\n",
    "    for part in assembly.hasPart:\n",
    "        for measure in part.hasMeasure:\n",
    "            df.loc[len(df)] = pd.Series(dtype=object)\n",
    "            for prop in measure.get_properties():\n",
    "                for value in prop[measure]:\n",
    "                    df.loc[len(df)-1, prop.python_name] = value\n",
    "\n",
    "df.drop('position', axis=1)\n",
    "df.groupby('timestamp').sum().head()"
   ],
   "metadata": {
    "collapsed": false
   }
  },
  {
   "cell_type": "code",
   "execution_count": null,
   "outputs": [],
   "source": [
    "close()"
   ],
   "metadata": {
    "collapsed": false
   }
  },
  {
   "cell_type": "code",
   "execution_count": null,
   "outputs": [],
   "source": [],
   "metadata": {
    "collapsed": false
   }
  },
  {
   "cell_type": "code",
   "execution_count": null,
   "outputs": [],
   "source": [],
   "metadata": {
    "collapsed": false
   }
  }
 ],
 "metadata": {
  "kernelspec": {
   "display_name": "Python 3 (ipykernel)",
   "language": "python",
   "name": "python3"
  },
  "language_info": {
   "codemirror_mode": {
    "name": "ipython",
    "version": 3
   },
   "file_extension": ".py",
   "mimetype": "text/x-python",
   "name": "python",
   "nbconvert_exporter": "python",
   "pygments_lexer": "ipython3",
   "version": "3.10.7"
  }
 },
 "nbformat": 4,
 "nbformat_minor": 5
}
