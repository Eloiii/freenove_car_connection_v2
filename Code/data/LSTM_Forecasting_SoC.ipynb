{
 "cells": [
  {
   "cell_type": "code",
   "execution_count": null,
   "outputs": [],
   "source": [
    "import pandas as pd\n",
    "import matplotlib.pyplot as plt\n",
    "import numpy as np\n",
    "from sklearn.preprocessing import MinMaxScaler\n",
    "from sklearn.model_selection import train_test_split\n",
    "from keras import Sequential\n",
    "from keras.layers import LSTM, Dense"
   ],
   "metadata": {
    "collapsed": false
   }
  },
  {
   "cell_type": "markdown",
   "source": [
    "# Raw data loading"
   ],
   "metadata": {
    "collapsed": false
   }
  },
  {
   "cell_type": "code",
   "execution_count": null,
   "outputs": [],
   "source": [
    "raw_df = pd.read_csv('car_data.csv')\n",
    "print(raw_df.shape)"
   ],
   "metadata": {
    "collapsed": false
   }
  },
  {
   "cell_type": "code",
   "execution_count": null,
   "outputs": [],
   "source": [
    "raw_df.head()"
   ],
   "metadata": {
    "collapsed": false
   }
  },
  {
   "cell_type": "markdown",
   "source": [
    "# Data transform"
   ],
   "metadata": {
    "collapsed": false
   }
  },
  {
   "cell_type": "code",
   "execution_count": null,
   "outputs": [],
   "source": [
    "df = raw_df.drop('timestamp', axis=1)\n",
    "\n",
    "raw_X = df[['use_percent','number_of_process','is_recording','framerate','resolution_height','resolution_width','speed','red_intensity','green_intensity','blue_intensity','is_buzzing','ultrasonicOn']]\n",
    "raw_Y = df['voltage']\n",
    "\n",
    "scaler = MinMaxScaler()\n",
    "raw_X = scaler.fit_transform(raw_X)\n",
    "\n",
    "all_X = np.array(raw_X)\n",
    "all_Y = np.array(raw_Y)\n",
    "\n",
    "X_train, X_test, Y_train, Y_test = train_test_split(all_X, all_Y, test_size=0.25)\n",
    "\n",
    "X_train=X_train.reshape(X_train.shape[0],X_train.shape[1],1)\n",
    "X_test=X_test.reshape(X_test.shape[0],X_test.shape[1],1)"
   ],
   "metadata": {
    "collapsed": false
   }
  },
  {
   "cell_type": "markdown",
   "source": [
    "# Creating model"
   ],
   "metadata": {
    "collapsed": false
   }
  },
  {
   "cell_type": "code",
   "execution_count": null,
   "outputs": [],
   "source": [
    "def SoC_forecasting_model(input_shape, loss='mse', optimizer='rmsprop', verbose=True):\n",
    "    SoC_model = Sequential(name ='SoC_Forecasting_Model')\n",
    "    SoC_model.add(LSTM(input_shape[1], input_shape=(input_shape[1], input_shape[2]), recurrent_dropout=0.2, return_sequences=True, name='LSTM_input'))\n",
    "    SoC_model.add(LSTM(32, recurrent_dropout=0.2, name='LSTM_hidden'))\n",
    "    SoC_model.add(Dense(input_shape[2], name='Dense_output'))\n",
    "    SoC_model.compile(loss=loss, optimizer=optimizer)\n",
    "    if verbose :\n",
    "        print(SoC_model.summary())\n",
    "    return SoC_model"
   ],
   "metadata": {
    "collapsed": false
   }
  },
  {
   "cell_type": "code",
   "execution_count": null,
   "outputs": [],
   "source": [
    "model = SoC_forecasting_model(X_train.shape)"
   ],
   "metadata": {
    "collapsed": false
   }
  },
  {
   "cell_type": "code",
   "execution_count": null,
   "outputs": [],
   "source": [
    "history = model.fit(X_train,Y_train, epochs=10, batch_size=16, validation_data=(X_test, Y_test), shuffle=False)"
   ],
   "metadata": {
    "collapsed": false
   }
  },
  {
   "cell_type": "code",
   "execution_count": null,
   "outputs": [],
   "source": [
    "print(history.history.keys())"
   ],
   "metadata": {
    "collapsed": false
   }
  },
  {
   "cell_type": "code",
   "execution_count": null,
   "outputs": [],
   "source": [
    "plt.plot(history.history['loss'])\n",
    "plt.plot(history.history['val_loss'])\n",
    "plt.title('model loss')\n",
    "plt.ylabel('loss')\n",
    "plt.xlabel('epoch')\n",
    "plt.legend(['train', 'test'], loc='upper left')\n",
    "plt.show()"
   ],
   "metadata": {
    "collapsed": false
   }
  },
  {
   "cell_type": "code",
   "execution_count": null,
   "outputs": [],
   "source": [
    "mse = model.evaluate(X_test, Y_test)\n",
    "print('MSE : ', mse)"
   ],
   "metadata": {
    "collapsed": false
   }
  },
  {
   "cell_type": "code",
   "execution_count": null,
   "outputs": [],
   "source": [
    "model.save('4WD_Car_SoC_Forecasting_model_deep')"
   ],
   "metadata": {
    "collapsed": false
   }
  }
 ],
 "metadata": {
  "kernelspec": {
   "display_name": "Python 3",
   "language": "python",
   "name": "python3"
  },
  "language_info": {
   "codemirror_mode": {
    "name": "ipython",
    "version": 2
   },
   "file_extension": ".py",
   "mimetype": "text/x-python",
   "name": "python",
   "nbconvert_exporter": "python",
   "pygments_lexer": "ipython2",
   "version": "2.7.6"
  }
 },
 "nbformat": 4,
 "nbformat_minor": 0
}
