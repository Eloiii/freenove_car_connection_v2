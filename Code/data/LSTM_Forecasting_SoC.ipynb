{
 "cells": [
  {
   "cell_type": "code",
   "execution_count": null,
   "outputs": [],
   "source": [
    "import pandas as pd\n",
    "import matplotlib.pyplot as plt\n",
    "import numpy as np\n",
    "from sklearn.preprocessing import MinMaxScaler\n",
    "from sklearn.model_selection import train_test_split\n",
    "from keras import Sequential\n",
    "from keras.layers import LSTM, Dense"
   ],
   "metadata": {
    "collapsed": false
   }
  },
  {
   "cell_type": "markdown",
   "source": [
    "# Raw data loading"
   ],
   "metadata": {
    "collapsed": false
   }
  },
  {
   "cell_type": "code",
   "execution_count": null,
   "outputs": [],
   "source": [
    "raw_df = pd.read_csv('car_data.csv')\n",
    "print(raw_df.shape)"
   ],
   "metadata": {
    "collapsed": false
   }
  },
  {
   "cell_type": "code",
   "execution_count": null,
   "outputs": [],
   "source": [
    "raw_df.head()"
   ],
   "metadata": {
    "collapsed": false
   }
  },
  {
   "cell_type": "markdown",
   "source": [
    "# Data preprocessing"
   ],
   "metadata": {
    "collapsed": false
   }
  },
  {
   "cell_type": "code",
   "execution_count": null,
   "outputs": [],
   "source": [
    "def LSTM_preprocessing(df, scaler, look_back=16, look_ahead=8, test_size=0.25):\n",
    "    raw_X = df[['use_percent','number_of_process','is_recording','framerate','resolution_height','resolution_width','speed','red_intensity','green_intensity','blue_intensity','is_buzzing','ultrasonicOn']]\n",
    "    raw_X = scaler.fit_transform(raw_X)\n",
    "    raw_Y = df['voltage']\n",
    "    X = []\n",
    "    y = []\n",
    "    for i in range(len(raw_X) - look_back - look_ahead + 1):\n",
    "        X.append(raw_X[i : i + look_back])\n",
    "        y.append(raw_Y[i + look_back : i + look_back + look_ahead])\n",
    "    X_train, X_test, Y_train, Y_test = train_test_split(np.array(X), np.array(y), test_size=test_size)\n",
    "    return X_train, X_test, Y_train, Y_test\n",
    "\n",
    "def divisors(x):\n",
    "    res = []\n",
    "    for i in range(1,x,1):\n",
    "        if x % i==0:\n",
    "            res.append(i)\n",
    "    return res\n",
    "\n",
    "df = raw_df.drop('timestamp', axis=1)\n",
    "scaler = MinMaxScaler(feature_range=(0,1))\n",
    "X_train, X_test, Y_train, Y_test = LSTM_preprocessing(df, scaler)\n",
    "print('X_train  :',X_train.shape)\n",
    "print('Y_train  :',Y_train.shape)\n",
    "print('X_test   :',X_test.shape)\n",
    "print('Y_test   :',Y_test.shape)\n",
    "divisors = divisors(X_train.shape[0])\n",
    "print('Batch sizes suitable such as they are a divisor of the training set size : ', divisors)"
   ],
   "metadata": {
    "collapsed": false
   }
  },
  {
   "cell_type": "markdown",
   "source": [
    "# LSTM Model\n"
   ],
   "metadata": {
    "collapsed": false
   }
  },
  {
   "cell_type": "code",
   "execution_count": null,
   "outputs": [],
   "source": [
    "def SoC_forecasting_model(input_shape, output_shape, stateful=True,batch_size=None, verbose=True):\n",
    "    assert (input_shape[0] % batch_size == 0) or batch_size is None, 'Batch size should be a multiplier of the number of entries'\n",
    "    SoC_model = Sequential(name ='SoC_Forecasting_Model')\n",
    "    SoC_model.add(LSTM(32, input_shape=(input_shape[1], input_shape[2]), batch_size=batch_size, recurrent_dropout=0.2, return_sequences=True, stateful=stateful, name='LSTM_input'))\n",
    "    SoC_model.add(LSTM(32, recurrent_dropout=0.2, return_sequences=True, stateful=stateful, name='LSTM_hidden1'))\n",
    "    SoC_model.add(LSTM(32, recurrent_dropout=0.2, return_sequences=True, stateful=stateful, name='LSTM_hidden2'))\n",
    "    SoC_model.add(LSTM(32, recurrent_dropout=0.2, return_sequences=True, stateful=stateful, name='LSTM_hidden3'))\n",
    "    SoC_model.add(LSTM(32, recurrent_dropout=0.2, stateful=stateful, name='LSTM_hidden_last'))\n",
    "    SoC_model.add(Dense(output_shape[1], name='Dense_output'))\n",
    "    SoC_model.compile(loss='mse', optimizer='adam', metrics=['mae'])\n",
    "    if verbose :\n",
    "        print(SoC_model.summary())\n",
    "    return SoC_model"
   ],
   "metadata": {
    "collapsed": false
   }
  },
  {
   "cell_type": "code",
   "execution_count": null,
   "outputs": [],
   "source": [
    "from tqdm import tqdm\n",
    "def stateful_fit(model, X_train, Y_train, batch_size, epochs=10, verbose=True):\n",
    "    assert X_train.shape[0] % batch_size == 0, 'Batch size should be a multiplier of the number of entries'\n",
    "    for i in range(epochs):\n",
    "        for j in tqdm(range(0, X_train.shape[0]//batch_size), desc=f\"Epoch : {i+1}/{10}\", ncols=100, colour='green', disable=not verbose):\n",
    "            X_batch = X_train[j*batch_size : (j+1)*batch_size]\n",
    "            Y_batch = Y_train[j*batch_size : (j+1)*batch_size]\n",
    "            model.train_on_batch(X_batch, Y_batch)\n",
    "        model.reset_states()"
   ],
   "metadata": {
    "collapsed": false
   }
  },
  {
   "cell_type": "markdown",
   "source": [
    "### Creating the model"
   ],
   "metadata": {
    "collapsed": false
   }
  },
  {
   "cell_type": "code",
   "execution_count": null,
   "outputs": [],
   "source": [
    "model = SoC_forecasting_model(X_train.shape, Y_train.shape, batch_size=6)"
   ],
   "metadata": {
    "collapsed": false
   }
  },
  {
   "cell_type": "markdown",
   "source": [
    "# Training\n",
    "\n",
    "## Stateful section\n",
    "\n",
    "Section to train the model if it is stateful"
   ],
   "metadata": {
    "collapsed": false
   }
  },
  {
   "cell_type": "code",
   "execution_count": null,
   "outputs": [],
   "source": [
    "stateful_fit(model, X_train, Y_train, 6)"
   ],
   "metadata": {
    "collapsed": false
   }
  },
  {
   "cell_type": "code",
   "execution_count": null,
   "outputs": [],
   "source": [],
   "metadata": {
    "collapsed": false
   }
  },
  {
   "cell_type": "markdown",
   "source": [
    "## Stateless training\n",
    "\n",
    "Section to train the model if it is stateless, measuring MSE as loss but also MAE as metric."
   ],
   "metadata": {
    "collapsed": false
   }
  },
  {
   "cell_type": "code",
   "execution_count": null,
   "outputs": [],
   "source": [
    "history = model.fit(X_train,Y_train, epochs=10, batch_size=6, validation_data=(X_test, Y_test), shuffle=False)\n",
    "for key in history.history.keys():\n",
    "    plt.plot(history.history[key])\n",
    "plt.title('model loss')\n",
    "plt.ylabel('loss')\n",
    "plt.xlabel('epoch')\n",
    "plt.legend(history.history.keys(), loc='upper right')\n",
    "plt.show()"
   ],
   "metadata": {
    "collapsed": false
   }
  },
  {
   "cell_type": "code",
   "execution_count": null,
   "outputs": [],
   "source": [
    "metrics = model.evaluate(X_test, Y_test)\n",
    "print('MSE : ', metrics[0])\n",
    "print('MAE : ', metrics[1])"
   ],
   "metadata": {
    "collapsed": false
   }
  },
  {
   "cell_type": "markdown",
   "source": [
    "# Saving model"
   ],
   "metadata": {
    "collapsed": false
   }
  },
  {
   "cell_type": "code",
   "execution_count": null,
   "outputs": [],
   "source": [
    "model.save('4WD_Car_SoC_Forecasting_model_deep')"
   ],
   "metadata": {
    "collapsed": false
   }
  }
 ],
 "metadata": {
  "kernelspec": {
   "display_name": "Python 3",
   "language": "python",
   "name": "python3"
  },
  "language_info": {
   "codemirror_mode": {
    "name": "ipython",
    "version": 2
   },
   "file_extension": ".py",
   "mimetype": "text/x-python",
   "name": "python",
   "nbconvert_exporter": "python",
   "pygments_lexer": "ipython2",
   "version": "2.7.6"
  }
 },
 "nbformat": 4,
 "nbformat_minor": 0
}
